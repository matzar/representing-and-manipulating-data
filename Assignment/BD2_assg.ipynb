{
 "cells": [
  {
   "cell_type": "markdown",
   "metadata": {},
   "source": [
    "# University of Stirling\n",
    "\n",
    "# ITNPBD2, Representing and Manipulating Data\n",
    "\n",
    "# Assignment 2019\n",
    "\n",
    "# An analysis of the book, Around the World in 80 Days by Jules Verne\n",
    "\n",
    "This notebook forms the assignment instructions and submission document of the assignment for ITNPBD2 in 2019. Read the instructions carefully and enter code into the cells as indicated.\n",
    "\n",
    "You will need to download the text of the book from Canvas - it is in the same place as this file, and called aroundTW80Days.txt.\n",
    "\n",
    "Rename this file to be xxxxxx_BD2 where xxxxxx is your student number, then type your code into the boxes provided. Each question is given in a markdown call, and there is an empty box beneath each one where you enter your answer. These boxes should contain 2 things:\n",
    "\n",
    "- **The code that performs the required task**\n",
    "- **Comments that explain your code**\n",
    "\n",
    "Marks are given for both code (70%) and style and comments (30%). If you cannot get the code to work properly, you will still get some marks for correct comments. The marks available for each question are given in square brackets in each title."
   ]
  },
  {
   "cell_type": "markdown",
   "metadata": {},
   "source": [
    "# Submission and Other Notes\n",
    "\n",
    "- Submit your notebook to canvas when it is complete\n",
    "- Make sure the version you submit contains the results of running every cell. The output should be visible without the need to run the code again\n",
    "\n",
    "## Plagiarism\n",
    "\n",
    "Plagiarism is presenting somebody else’s work as your own. Plagiarism is a form of academic misconduct and is taken very seriously by the University. Students found to have plagiarised work can have marks deducted and, in serious cases, even be expelled from the University. Do not submit any work that is not entirely your own. \n",
    "\n",
    "The University’s full guidance on academic misconduct can be found here:\n",
    "\n",
    "http://stir.ac.uk/1x0\n"
   ]
  },
  {
   "cell_type": "markdown",
   "metadata": {},
   "source": [
    "## 1) Open the file `aroundTW80Days.txt` and read its contents into a string [3]\n",
    "\n",
    "\n",
    "- Print the number of characters (letters, etc) in the whole book\n",
    "- Split the book into a Python list containing all the words of the book in order. At this stage, use string splitting, not a more fancy library like `nltk`. Call this variable `book_list`\n",
    "- Print the number of words in the book\n",
    "- Print the first 10 words of the book. It should look like this:\n",
    "\n",
    "`['The', 'Project', 'Gutenberg', 'EBook', 'of', 'Around', 'the', 'World', 'in', '80', 'Days,']`"
   ]
  },
  {
   "cell_type": "code",
   "execution_count": null,
   "metadata": {},
   "outputs": [],
   "source": [
    "# Put your answer: code and comment here"
   ]
  },
  {
   "cell_type": "markdown",
   "metadata": {},
   "source": [
    "## 2) Now create a set containing all the unique words in the book [3]\n",
    "- Print the number of unique words it finds"
   ]
  },
  {
   "cell_type": "code",
   "execution_count": null,
   "metadata": {},
   "outputs": [],
   "source": [
    "# Put your answer: code and comment here"
   ]
  },
  {
   "cell_type": "markdown",
   "metadata": {},
   "source": [
    "## 3) Build a Dictionary of the words used in the book [3]\n",
    "- Build a Python dictionary (`dict`) in which the keys are the unique words in the book and the values are dictionary objects with fields `length` for word length and `freq` for frequency, e.g.:\n",
    "\n",
    "`{'the': {'length': 3, 'freq': 4303}}`\n"
   ]
  },
  {
   "cell_type": "code",
   "execution_count": null,
   "metadata": {},
   "outputs": [],
   "source": [
    "# Put your answer: code and comment here"
   ]
  },
  {
   "cell_type": "markdown",
   "metadata": {},
   "source": [
    "## 4) Use the dictionary that you created above to find the most commonly used word in the book [3]\n",
    "- Print the word and the number of times it appeared in the book"
   ]
  },
  {
   "cell_type": "code",
   "execution_count": null,
   "metadata": {},
   "outputs": [],
   "source": [
    "# Put your answer: code and comment here"
   ]
  },
  {
   "cell_type": "markdown",
   "metadata": {},
   "source": [
    "## 5) Write a generator function to produce each word and its length each time it yields a value [6]\n",
    "\n",
    "- The function should accept a single argument: the list of words in the book\n",
    "- It should yield a tuple (word, word_len)\n",
    "- Call the function to create a generator but do not iterate over it at this stage"
   ]
  },
  {
   "cell_type": "code",
   "execution_count": null,
   "metadata": {},
   "outputs": [],
   "source": [
    "# Put your answer: code and comment here"
   ]
  },
  {
   "cell_type": "markdown",
   "metadata": {},
   "source": [
    "## 6) Use a comprehension over the generator you just made to list all the words with 9 letters [6]\n",
    "\n",
    "- Print all those words\n",
    "- Extra points if each word is selected only once"
   ]
  },
  {
   "cell_type": "code",
   "execution_count": null,
   "metadata": {},
   "outputs": [],
   "source": [
    "# Put your answer: code and comment here"
   ]
  },
  {
   "cell_type": "markdown",
   "metadata": {},
   "source": [
    "## 7) Now iterate over your original list of words, `book_list` and find all the words with more than 14 letters, which do not contain any of these characters: [6]\n",
    "\n",
    "`. - \\ /`"
   ]
  },
  {
   "cell_type": "code",
   "execution_count": null,
   "metadata": {},
   "outputs": [],
   "source": [
    "# Put your answer: code and comment here"
   ]
  },
  {
   "cell_type": "markdown",
   "metadata": {},
   "source": [
    "## 8) Split the book into a list of chapters [6]\n",
    " \n",
    " - This should be a list of strings\n",
    " - Hint - split on the word 'Chapter'\n",
    " - Call the list `chapter_list`\n",
    " "
   ]
  },
  {
   "cell_type": "code",
   "execution_count": null,
   "metadata": {},
   "outputs": [],
   "source": [
    "# Put your answer: code and comment here"
   ]
  },
  {
   "cell_type": "markdown",
   "metadata": {},
   "source": [
    "## 9) Remove the first entry from the chapter list [6]\n",
    "The first item in the chapter list is just the preface and chapter list. Copy that into a separate string variable and then remove it from the chapter list"
   ]
  },
  {
   "cell_type": "code",
   "execution_count": null,
   "metadata": {},
   "outputs": [],
   "source": [
    "# Put your answer: code and comment here"
   ]
  },
  {
   "cell_type": "markdown",
   "metadata": {},
   "source": [
    "## 10) Now take each chapter and split it into a list of words, producing a list of lists - one for each chapter [6]"
   ]
  },
  {
   "cell_type": "code",
   "execution_count": null,
   "metadata": {},
   "outputs": [],
   "source": [
    "# Put your answer: code and comment here"
   ]
  },
  {
   "cell_type": "markdown",
   "metadata": {},
   "source": [
    "## 11) Print only the titles from each chapter [6]\n",
    "- Clue: The title of each chapter is written in UPPER CASE and is the first thing in each chapter. Therefore, printing words until you find one that is not upper case will print the title."
   ]
  },
  {
   "cell_type": "code",
   "execution_count": null,
   "metadata": {},
   "outputs": [],
   "source": [
    "# Put your answer: code and comment here"
   ]
  },
  {
   "cell_type": "markdown",
   "metadata": {},
   "source": [
    "## 12) Measure the length of each chapter and plot the values on a bar chart [9]\n",
    "- Draw a horizontal bar chart so you can read the chapter numbers down the left side\n",
    "- Set the headings to be `Chapter I` to `Chapter XXXVI` do this with code that extracts the chapter headings from the text, not by hand\n",
    "- Give the chart appropriate title and axis labels\n",
    "- Use whatever plotting library you like. Matplotlib is fine."
   ]
  },
  {
   "cell_type": "code",
   "execution_count": null,
   "metadata": {},
   "outputs": [],
   "source": [
    "# Put your answer: code and comment here"
   ]
  },
  {
   "cell_type": "markdown",
   "metadata": {},
   "source": [
    "## 13) Plot Locations Mentioned in the Book on a Map [9]\n",
    "\n",
    "- Using a plotting package of your choice, plot the locations of all the cities mentioned in the book\n",
    "- You can use the file called `cities.txt` to look up city names and locations\n",
    "- Look at its contents to work out how to use it. The locations are given as latitude, longitude, altitude (you won't need that last one!)\n",
    "- You should then write code that searches the book for all the cities in `cities.txt`. Any that it finds should be plotted on the map\n",
    "- Here is a useful list of words that appear in the book, but are NOT to be plotted:\n",
    "\n",
    "`['Victoria','San','Imperial','Come','San Pablo','Queenstown','Young','Lincoln','Forster','Formosa']`"
   ]
  },
  {
   "cell_type": "code",
   "execution_count": null,
   "metadata": {},
   "outputs": [],
   "source": [
    "# Put your answer: code and comment here"
   ]
  },
  {
   "cell_type": "markdown",
   "metadata": {},
   "source": [
    "## 14) NLTK Sentiment Analysis [9]\n",
    "\n",
    "## Use the VADER tool in the nltk library to analyse the sentiment of each chapter and plot the positive sentiment level over time on a chart"
   ]
  },
  {
   "cell_type": "code",
   "execution_count": null,
   "metadata": {},
   "outputs": [],
   "source": [
    "# Put your answer: code and comment here"
   ]
  },
  {
   "cell_type": "markdown",
   "metadata": {},
   "source": [
    "## 15) Now think of some further analysis you could do based on the text of this book [19]\n",
    "\n",
    "It should use other data sources you find online and tell an additional story around the data. Suggested data and sources include:\n",
    "\n",
    "- Travel and accommodation sites\n",
    "- User reviews of the book\n",
    "- Book sales data about this and other related books\n",
    "- News stories about places in the book\n",
    "- Travel times and distances\n",
    "- Pictures of places in the book\n",
    "\n",
    "Your analysis might consider how Phileas Fogg would travel if he had to make the same journey today - what would it cost, where might he stay, what would be happening in the places he would visit? How would you aquire the data you need? Can you connect to data online using REST? Do you need to perform scraping with something like ScraPy? What other packages would you need and what would you use them for?\n",
    "\n",
    "Write in English (not Python) about your idea including data sources, Python packages used, presentation and visualisation methods, and potential problems you can forsee. \n",
    "\n",
    "Add some example of code that perform some of the tasks required for your full analysis. You do not have to implement the whole idea, just some illustrative parts. \n",
    "\n",
    "Use as many cells below as you need - both code and markdown to explain your ideas. This part is worth 19 of the marks overall.\n"
   ]
  },
  {
   "cell_type": "code",
   "execution_count": null,
   "metadata": {},
   "outputs": [],
   "source": []
  }
 ],
 "metadata": {
  "kernelspec": {
   "display_name": "Python 3",
   "language": "python",
   "name": "python3"
  },
  "language_info": {
   "codemirror_mode": {
    "name": "ipython",
    "version": 3
   },
   "file_extension": ".py",
   "mimetype": "text/x-python",
   "name": "python",
   "nbconvert_exporter": "python",
   "pygments_lexer": "ipython3",
   "version": "3.7.4"
  }
 },
 "nbformat": 4,
 "nbformat_minor": 2
}
